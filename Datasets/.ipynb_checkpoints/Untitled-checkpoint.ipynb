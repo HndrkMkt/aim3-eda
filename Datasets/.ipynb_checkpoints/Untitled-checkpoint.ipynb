{
 "cells": [
  {
   "cell_type": "code",
   "execution_count": 157,
   "metadata": {},
   "outputs": [],
   "source": [
    "import random\n",
    "import statistics\n",
    "\n",
    "import numpy as np\n",
    "import pandas as pd\n",
    "import seaborn as sns\n",
    "import matplotlib.pyplot as plt\n",
    "\n",
    "from datetime import datetime\n",
    "sns.set()"
   ]
  },
  {
   "cell_type": "code",
   "execution_count": 2,
   "metadata": {},
   "outputs": [],
   "source": [
    "ride_details = pd.read_csv(\"Ride_Details.csv\")\n",
    "visitors_data = pd.read_csv(\"visitors_data.csv\")"
   ]
  },
  {
   "cell_type": "markdown",
   "metadata": {},
   "source": [
    "## Explore Ride Details"
   ]
  },
  {
   "cell_type": "code",
   "execution_count": 3,
   "metadata": {},
   "outputs": [
    {
     "data": {
      "text/html": [
       "<div>\n",
       "<style scoped>\n",
       "    .dataframe tbody tr th:only-of-type {\n",
       "        vertical-align: middle;\n",
       "    }\n",
       "\n",
       "    .dataframe tbody tr th {\n",
       "        vertical-align: top;\n",
       "    }\n",
       "\n",
       "    .dataframe thead th {\n",
       "        text-align: right;\n",
       "    }\n",
       "</style>\n",
       "<table border=\"1\" class=\"dataframe\">\n",
       "  <thead>\n",
       "    <tr style=\"text-align: right;\">\n",
       "      <th></th>\n",
       "      <th>Park Guide Index</th>\n",
       "      <th>Real World Type</th>\n",
       "      <th>x-coor entrance</th>\n",
       "      <th>y-coor entrance</th>\n",
       "      <th>type</th>\n",
       "    </tr>\n",
       "  </thead>\n",
       "  <tbody>\n",
       "    <tr>\n",
       "      <th>0</th>\n",
       "      <td>1</td>\n",
       "      <td>Long Coaster</td>\n",
       "      <td>47</td>\n",
       "      <td>11</td>\n",
       "      <td>Thrill</td>\n",
       "    </tr>\n",
       "    <tr>\n",
       "      <th>1</th>\n",
       "      <td>2</td>\n",
       "      <td>Metal Coaster</td>\n",
       "      <td>27</td>\n",
       "      <td>15</td>\n",
       "      <td>Thrill</td>\n",
       "    </tr>\n",
       "    <tr>\n",
       "      <th>2</th>\n",
       "      <td>3</td>\n",
       "      <td>Wooden Coaster</td>\n",
       "      <td>38</td>\n",
       "      <td>90</td>\n",
       "      <td>Thrill</td>\n",
       "    </tr>\n",
       "    <tr>\n",
       "      <th>3</th>\n",
       "      <td>4</td>\n",
       "      <td>SkyDiver</td>\n",
       "      <td>78</td>\n",
       "      <td>48</td>\n",
       "      <td>Thrill</td>\n",
       "    </tr>\n",
       "    <tr>\n",
       "      <th>4</th>\n",
       "      <td>5</td>\n",
       "      <td>Wild Mouse</td>\n",
       "      <td>16</td>\n",
       "      <td>66</td>\n",
       "      <td>Thrill</td>\n",
       "    </tr>\n",
       "  </tbody>\n",
       "</table>\n",
       "</div>"
      ],
      "text/plain": [
       "   Park Guide Index Real World Type  x-coor entrance  y-coor entrance    type\n",
       "0                 1    Long Coaster               47               11  Thrill\n",
       "1                 2   Metal Coaster               27               15  Thrill\n",
       "2                 3  Wooden Coaster               38               90  Thrill\n",
       "3                 4        SkyDiver               78               48  Thrill\n",
       "4                 5      Wild Mouse               16               66  Thrill"
      ]
     },
     "execution_count": 3,
     "metadata": {},
     "output_type": "execute_result"
    }
   ],
   "source": [
    "ride_details.head()"
   ]
  },
  {
   "cell_type": "code",
   "execution_count": 4,
   "metadata": {},
   "outputs": [
    {
     "data": {
      "text/plain": [
       "Park Guide Index     int64\n",
       "Real World Type     object\n",
       "x-coor entrance      int64\n",
       "y-coor entrance      int64\n",
       "type                object\n",
       "dtype: object"
      ]
     },
     "execution_count": 4,
     "metadata": {},
     "output_type": "execute_result"
    }
   ],
   "source": [
    "ride_details.dtypes"
   ]
  },
  {
   "cell_type": "code",
   "execution_count": 5,
   "metadata": {},
   "outputs": [
    {
     "data": {
      "text/html": [
       "<div>\n",
       "<style scoped>\n",
       "    .dataframe tbody tr th:only-of-type {\n",
       "        vertical-align: middle;\n",
       "    }\n",
       "\n",
       "    .dataframe tbody tr th {\n",
       "        vertical-align: top;\n",
       "    }\n",
       "\n",
       "    .dataframe thead th {\n",
       "        text-align: right;\n",
       "    }\n",
       "</style>\n",
       "<table border=\"1\" class=\"dataframe\">\n",
       "  <thead>\n",
       "    <tr style=\"text-align: right;\">\n",
       "      <th></th>\n",
       "      <th>Park Guide Index</th>\n",
       "      <th>x-coor entrance</th>\n",
       "      <th>y-coor entrance</th>\n",
       "    </tr>\n",
       "  </thead>\n",
       "  <tbody>\n",
       "    <tr>\n",
       "      <th>count</th>\n",
       "      <td>71.000000</td>\n",
       "      <td>71.000000</td>\n",
       "      <td>71.000000</td>\n",
       "    </tr>\n",
       "    <tr>\n",
       "      <th>mean</th>\n",
       "      <td>37.492958</td>\n",
       "      <td>53.633803</td>\n",
       "      <td>59.295775</td>\n",
       "    </tr>\n",
       "    <tr>\n",
       "      <th>std</th>\n",
       "      <td>23.865620</td>\n",
       "      <td>26.348347</td>\n",
       "      <td>22.810646</td>\n",
       "    </tr>\n",
       "    <tr>\n",
       "      <th>min</th>\n",
       "      <td>1.000000</td>\n",
       "      <td>0.000000</td>\n",
       "      <td>11.000000</td>\n",
       "    </tr>\n",
       "    <tr>\n",
       "      <th>25%</th>\n",
       "      <td>18.500000</td>\n",
       "      <td>30.500000</td>\n",
       "      <td>43.500000</td>\n",
       "    </tr>\n",
       "    <tr>\n",
       "      <th>50%</th>\n",
       "      <td>36.000000</td>\n",
       "      <td>56.000000</td>\n",
       "      <td>66.000000</td>\n",
       "    </tr>\n",
       "    <tr>\n",
       "      <th>75%</th>\n",
       "      <td>53.500000</td>\n",
       "      <td>77.000000</td>\n",
       "      <td>78.000000</td>\n",
       "    </tr>\n",
       "    <tr>\n",
       "      <th>max</th>\n",
       "      <td>102.000000</td>\n",
       "      <td>99.000000</td>\n",
       "      <td>99.000000</td>\n",
       "    </tr>\n",
       "  </tbody>\n",
       "</table>\n",
       "</div>"
      ],
      "text/plain": [
       "       Park Guide Index  x-coor entrance  y-coor entrance\n",
       "count         71.000000        71.000000        71.000000\n",
       "mean          37.492958        53.633803        59.295775\n",
       "std           23.865620        26.348347        22.810646\n",
       "min            1.000000         0.000000        11.000000\n",
       "25%           18.500000        30.500000        43.500000\n",
       "50%           36.000000        56.000000        66.000000\n",
       "75%           53.500000        77.000000        78.000000\n",
       "max          102.000000        99.000000        99.000000"
      ]
     },
     "execution_count": 5,
     "metadata": {},
     "output_type": "execute_result"
    }
   ],
   "source": [
    "ride_details.describe()"
   ]
  },
  {
   "cell_type": "markdown",
   "metadata": {},
   "source": [
    "The summary statistics give an orientation for the size of the park (max - min) and as the quantiles scale fairly uniform, I suspect no anomalies here and verify this using the plot below."
   ]
  },
  {
   "cell_type": "code",
   "execution_count": 6,
   "metadata": {},
   "outputs": [
    {
     "data": {
      "image/png": "[encoded data removed]",
      "text/plain": [
       "<Figure size 432x288 with 1 Axes>"
      ]
     },
     "metadata": {},
     "output_type": "display_data"
    }
   ],
   "source": [
    "plt.scatter(ride_details['x-coor entrance'], ride_details['y-coor entrance'], label='Attractions')\n",
    "plt.legend()\n",
    "plt.xlabel(\"X Coordinate\")\n",
    "plt.ylabel(\"Y Coordinate\")\n",
    "plt.title('Attraction locations in the park')\n",
    "plt.show()"
   ]
  },
  {
   "cell_type": "code",
   "execution_count": 7,
   "metadata": {},
   "outputs": [
    {
     "data": {
      "text/plain": [
       "Food           12\n",
       "Everybody      12\n",
       "Kiddie         11\n",
       "Shopping        9\n",
       "Thrill          9\n",
       "Restroom        7\n",
       "Entrance        3\n",
       "Beer Garden     2\n",
       "Arcade          1\n",
       "First Aid       1\n",
       "Pavilion        1\n",
       "Info            1\n",
       "Stage           1\n",
       "Show Hall       1\n",
       "Name: type, dtype: int64"
      ]
     },
     "execution_count": 7,
     "metadata": {},
     "output_type": "execute_result"
    }
   ],
   "source": [
    "ride_details['type'].value_counts()"
   ]
  },
  {
   "cell_type": "markdown",
   "metadata": {},
   "source": [
    "Using the unique values from the type columns, we can see which kind of facilities to find in the park. We can see that there are several restrooms and entrances which are scattered around the park."
   ]
  },
  {
   "cell_type": "code",
   "execution_count": 8,
   "metadata": {},
   "outputs": [
    {
     "data": {
      "image/png": "[encoded data removed]",
      "text/plain": [
       "<Figure size 432x288 with 1 Axes>"
      ]
     },
     "metadata": {},
     "output_type": "display_data"
    }
   ],
   "source": [
    "restrooms = ride_details[ride_details['type'] == \"Restroom\"]\n",
    "entrances = ride_details[ride_details['type'] == \"Entrance\"]\n",
    "plt.scatter(ride_details['x-coor entrance'], ride_details['y-coor entrance'], c='blue', label='Attractions')\n",
    "plt.scatter(restrooms['x-coor entrance'], restrooms['y-coor entrance'], c='red', label='Restrooms')\n",
    "plt.scatter(entrances['x-coor entrance'], entrances['y-coor entrance'], c='green', label='Entrances')\n",
    "plt.legend()\n",
    "plt.xlabel(\"X Coordinate\")\n",
    "plt.ylabel(\"Y Coordinate\")\n",
    "plt.title('Attraction locations in the park')\n",
    "plt.show()"
   ]
  },
  {
   "cell_type": "code",
   "execution_count": 28,
   "metadata": {},
   "outputs": [
    {
     "data": {
      "text/plain": [
       "Ice Cream         2\n",
       "Pizza             2\n",
       "Dino Souvenirs    2\n",
       "East Entrance     1\n",
       "Octopus           1\n",
       "Game Stop         1\n",
       "Centrifuge        1\n",
       "Coffee House      1\n",
       "Log Flume         1\n",
       "General Menu      1\n",
       "Name: Real World Type, dtype: int64"
      ]
     },
     "execution_count": 28,
     "metadata": {},
     "output_type": "execute_result"
    }
   ],
   "source": [
    "ride_details['Real World Type'].value_counts().head(10)"
   ]
  },
  {
   "cell_type": "code",
   "execution_count": 10,
   "metadata": {},
   "outputs": [
    {
     "data": {
      "text/plain": [
       "Park Guide Index    0\n",
       "Real World Type     0\n",
       "x-coor entrance     0\n",
       "y-coor entrance     0\n",
       "type                0\n",
       "dtype: int64"
      ]
     },
     "execution_count": 10,
     "metadata": {},
     "output_type": "execute_result"
    }
   ],
   "source": [
    "ride_details.isnull().sum()"
   ]
  },
  {
   "cell_type": "markdown",
   "metadata": {},
   "source": [
    "## Explore Visitors Data"
   ]
  },
  {
   "cell_type": "code",
   "execution_count": 11,
   "metadata": {},
   "outputs": [
    {
     "data": {
      "text/html": [
       "<div>\n",
       "<style scoped>\n",
       "    .dataframe tbody tr th:only-of-type {\n",
       "        vertical-align: middle;\n",
       "    }\n",
       "\n",
       "    .dataframe tbody tr th {\n",
       "        vertical-align: top;\n",
       "    }\n",
       "\n",
       "    .dataframe thead th {\n",
       "        text-align: right;\n",
       "    }\n",
       "</style>\n",
       "<table border=\"1\" class=\"dataframe\">\n",
       "  <thead>\n",
       "    <tr style=\"text-align: right;\">\n",
       "      <th></th>\n",
       "      <th>Unnamed: 0</th>\n",
       "      <th>Timestamp</th>\n",
       "      <th>id</th>\n",
       "      <th>type</th>\n",
       "      <th>X</th>\n",
       "      <th>Y</th>\n",
       "    </tr>\n",
       "  </thead>\n",
       "  <tbody>\n",
       "    <tr>\n",
       "      <th>0</th>\n",
       "      <td>3202418</td>\n",
       "      <td>06/06/14 15:02</td>\n",
       "      <td>2019077.0</td>\n",
       "      <td>movement</td>\n",
       "      <td>400.0</td>\n",
       "      <td>33.0</td>\n",
       "    </tr>\n",
       "    <tr>\n",
       "      <th>1</th>\n",
       "      <td>5180937</td>\n",
       "      <td>06/06/14 19:46</td>\n",
       "      <td>706731.0</td>\n",
       "      <td>movement</td>\n",
       "      <td>74.0</td>\n",
       "      <td>34.0</td>\n",
       "    </tr>\n",
       "    <tr>\n",
       "      <th>2</th>\n",
       "      <td>733461</td>\n",
       "      <td>06/06/14 9:47</td>\n",
       "      <td>1794014.0</td>\n",
       "      <td>movement</td>\n",
       "      <td>52.0</td>\n",
       "      <td>51.0</td>\n",
       "    </tr>\n",
       "    <tr>\n",
       "      <th>3</th>\n",
       "      <td>2457027</td>\n",
       "      <td>06/06/14 13:23</td>\n",
       "      <td>1561938.0</td>\n",
       "      <td>movement</td>\n",
       "      <td>44.0</td>\n",
       "      <td>31.0</td>\n",
       "    </tr>\n",
       "    <tr>\n",
       "      <th>4</th>\n",
       "      <td>3591876</td>\n",
       "      <td>06/06/14 16:02</td>\n",
       "      <td>811616.0</td>\n",
       "      <td>movement</td>\n",
       "      <td>64.0</td>\n",
       "      <td>29.0</td>\n",
       "    </tr>\n",
       "  </tbody>\n",
       "</table>\n",
       "</div>"
      ],
      "text/plain": [
       "   Unnamed: 0       Timestamp         id      type      X     Y\n",
       "0     3202418  06/06/14 15:02  2019077.0  movement  400.0  33.0\n",
       "1     5180937  06/06/14 19:46   706731.0  movement   74.0  34.0\n",
       "2      733461   06/06/14 9:47  1794014.0  movement   52.0  51.0\n",
       "3     2457027  06/06/14 13:23  1561938.0  movement   44.0  31.0\n",
       "4     3591876  06/06/14 16:02   811616.0  movement   64.0  29.0"
      ]
     },
     "execution_count": 11,
     "metadata": {},
     "output_type": "execute_result"
    }
   ],
   "source": [
    "visitors_data.head()"
   ]
  },
  {
   "cell_type": "code",
   "execution_count": 12,
   "metadata": {},
   "outputs": [
    {
     "data": {
      "text/plain": [
       "Unnamed: 0      int64\n",
       "Timestamp      object\n",
       "id            float64\n",
       "type           object\n",
       "X             float64\n",
       "Y             float64\n",
       "dtype: object"
      ]
     },
     "execution_count": 12,
     "metadata": {},
     "output_type": "execute_result"
    }
   ],
   "source": [
    "visitors_data.dtypes"
   ]
  },
  {
   "cell_type": "code",
   "execution_count": 13,
   "metadata": {},
   "outputs": [
    {
     "data": {
      "text/plain": [
       "Unnamed: 0             int64\n",
       "Timestamp     datetime64[ns]\n",
       "id                   float64\n",
       "type                  object\n",
       "X                    float64\n",
       "Y                    float64\n",
       "dtype: object"
      ]
     },
     "execution_count": 13,
     "metadata": {},
     "output_type": "execute_result"
    }
   ],
   "source": [
    "visitors_data[['Timestamp']] = pd.to_datetime(visitors_data['Timestamp'], infer_datetime_format=True)\n",
    "visitors_data.dtypes"
   ]
  },
  {
   "cell_type": "code",
   "execution_count": 14,
   "metadata": {},
   "outputs": [
    {
     "data": {
      "text/html": [
       "<div>\n",
       "<style scoped>\n",
       "    .dataframe tbody tr th:only-of-type {\n",
       "        vertical-align: middle;\n",
       "    }\n",
       "\n",
       "    .dataframe tbody tr th {\n",
       "        vertical-align: top;\n",
       "    }\n",
       "\n",
       "    .dataframe thead th {\n",
       "        text-align: right;\n",
       "    }\n",
       "</style>\n",
       "<table border=\"1\" class=\"dataframe\">\n",
       "  <thead>\n",
       "    <tr style=\"text-align: right;\">\n",
       "      <th></th>\n",
       "      <th>Unnamed: 0</th>\n",
       "      <th>id</th>\n",
       "      <th>X</th>\n",
       "      <th>Y</th>\n",
       "    </tr>\n",
       "  </thead>\n",
       "  <tbody>\n",
       "    <tr>\n",
       "      <th>count</th>\n",
       "      <td>1.048575e+06</td>\n",
       "      <td>1.048552e+06</td>\n",
       "      <td>1.048557e+06</td>\n",
       "      <td>1.048549e+06</td>\n",
       "    </tr>\n",
       "    <tr>\n",
       "      <th>mean</th>\n",
       "      <td>3.006343e+06</td>\n",
       "      <td>1.051449e+06</td>\n",
       "      <td>5.030459e+01</td>\n",
       "      <td>5.376152e+01</td>\n",
       "    </tr>\n",
       "    <tr>\n",
       "      <th>std</th>\n",
       "      <td>1.734151e+06</td>\n",
       "      <td>6.040962e+05</td>\n",
       "      <td>1.989793e+01</td>\n",
       "      <td>2.043557e+01</td>\n",
       "    </tr>\n",
       "    <tr>\n",
       "      <th>min</th>\n",
       "      <td>6.000000e+00</td>\n",
       "      <td>9.410000e+02</td>\n",
       "      <td>-9.000000e+01</td>\n",
       "      <td>-7.860000e+02</td>\n",
       "    </tr>\n",
       "    <tr>\n",
       "      <th>25%</th>\n",
       "      <td>1.504460e+06</td>\n",
       "      <td>5.393860e+05</td>\n",
       "      <td>3.400000e+01</td>\n",
       "      <td>3.700000e+01</td>\n",
       "    </tr>\n",
       "    <tr>\n",
       "      <th>50%</th>\n",
       "      <td>3.005834e+06</td>\n",
       "      <td>1.053224e+06</td>\n",
       "      <td>5.100000e+01</td>\n",
       "      <td>5.300000e+01</td>\n",
       "    </tr>\n",
       "    <tr>\n",
       "      <th>75%</th>\n",
       "      <td>4.507462e+06</td>\n",
       "      <td>1.578455e+06</td>\n",
       "      <td>6.600000e+01</td>\n",
       "      <td>7.000000e+01</td>\n",
       "    </tr>\n",
       "    <tr>\n",
       "      <th>max</th>\n",
       "      <td>6.010908e+06</td>\n",
       "      <td>2.096715e+06</td>\n",
       "      <td>1.966000e+03</td>\n",
       "      <td>6.540000e+02</td>\n",
       "    </tr>\n",
       "  </tbody>\n",
       "</table>\n",
       "</div>"
      ],
      "text/plain": [
       "         Unnamed: 0            id             X             Y\n",
       "count  1.048575e+06  1.048552e+06  1.048557e+06  1.048549e+06\n",
       "mean   3.006343e+06  1.051449e+06  5.030459e+01  5.376152e+01\n",
       "std    1.734151e+06  6.040962e+05  1.989793e+01  2.043557e+01\n",
       "min    6.000000e+00  9.410000e+02 -9.000000e+01 -7.860000e+02\n",
       "25%    1.504460e+06  5.393860e+05  3.400000e+01  3.700000e+01\n",
       "50%    3.005834e+06  1.053224e+06  5.100000e+01  5.300000e+01\n",
       "75%    4.507462e+06  1.578455e+06  6.600000e+01  7.000000e+01\n",
       "max    6.010908e+06  2.096715e+06  1.966000e+03  6.540000e+02"
      ]
     },
     "execution_count": 14,
     "metadata": {},
     "output_type": "execute_result"
    }
   ],
   "source": [
    "visitors_data.describe()"
   ]
  },
  {
   "cell_type": "markdown",
   "metadata": {},
   "source": [
    "Looking at the summary values for X and Y, we can see that there is a great gap between the 75th percentile and the max value. Thus, I suspect there to be anomalies in the location data."
   ]
  },
  {
   "cell_type": "markdown",
   "metadata": {},
   "source": [
    "### Removing Timestamp anomalies"
   ]
  },
  {
   "cell_type": "code",
   "execution_count": 15,
   "metadata": {},
   "outputs": [
    {
     "name": "stdout",
     "output_type": "stream",
     "text": [
      "Minimum:    2014-06-06 01:07:00\n",
      "1st Pctl:   2014-06-06 08:20:00\n",
      "Median:     2014-06-06 14:36:00\n",
      "99th Pctl:  2014-06-06 22:28:00\n",
      "Maximum:    2024-06-06 17:21:00\n"
     ]
    }
   ],
   "source": [
    "print(f\"Minimum:    {visitors_data['Timestamp'].min()}\")\n",
    "print(f\"1st Pctl:   {visitors_data['Timestamp'].quantile(.01)}\")\n",
    "print(f\"Median:     {visitors_data['Timestamp'].quantile(.50)}\")\n",
    "print(f\"99th Pctl:  {visitors_data['Timestamp'].quantile(.99)}\")\n",
    "print(f\"Maximum:    {visitors_data['Timestamp'].max()}\")"
   ]
  },
  {
   "cell_type": "markdown",
   "metadata": {},
   "source": [
    "Similarly, there seem to be anomalies in the anomalies in the timestamp data. As the given data is only for the 6th June 2014, any values for other days are filtered out."
   ]
  },
  {
   "cell_type": "code",
   "execution_count": 16,
   "metadata": {},
   "outputs": [
    {
     "name": "stdout",
     "output_type": "stream",
     "text": [
      "There are 2 anomalies filtered out.\n"
     ]
    }
   ],
   "source": [
    "anomaly_filter = visitors_data['Timestamp'] >  datetime(2014, 6, 7, 0, 0, 0)\n",
    "print(f\"There are {anomaly_filter.sum()} anomalies filtered out.\")\n",
    "visitors_data.drop(visitors_data[anomaly_filter].index, inplace=True)"
   ]
  },
  {
   "cell_type": "code",
   "execution_count": 17,
   "metadata": {},
   "outputs": [
    {
     "data": {
      "text/plain": [
       "movement    1034231\n",
       "check-in      14301\n",
       "qq                1\n",
       "Name: type, dtype: int64"
      ]
     },
     "execution_count": 17,
     "metadata": {},
     "output_type": "execute_result"
    }
   ],
   "source": [
    "visitors_data[\"type\"].value_counts()"
   ]
  },
  {
   "cell_type": "markdown",
   "metadata": {},
   "source": [
    "### Handle Missing Values"
   ]
  },
  {
   "cell_type": "code",
   "execution_count": 18,
   "metadata": {},
   "outputs": [
    {
     "data": {
      "text/plain": [
       "Unnamed: 0     0\n",
       "Timestamp     27\n",
       "id            23\n",
       "type          40\n",
       "X             18\n",
       "Y             26\n",
       "dtype: int64"
      ]
     },
     "execution_count": 18,
     "metadata": {},
     "output_type": "execute_result"
    }
   ],
   "source": [
    "visitors_data.isnull().sum()"
   ]
  },
  {
   "cell_type": "code",
   "execution_count": 19,
   "metadata": {},
   "outputs": [
    {
     "data": {
      "text/html": [
       "<div>\n",
       "<style scoped>\n",
       "    .dataframe tbody tr th:only-of-type {\n",
       "        vertical-align: middle;\n",
       "    }\n",
       "\n",
       "    .dataframe tbody tr th {\n",
       "        vertical-align: top;\n",
       "    }\n",
       "\n",
       "    .dataframe thead th {\n",
       "        text-align: right;\n",
       "    }\n",
       "</style>\n",
       "<table border=\"1\" class=\"dataframe\">\n",
       "  <thead>\n",
       "    <tr style=\"text-align: right;\">\n",
       "      <th></th>\n",
       "      <th>Unnamed: 0</th>\n",
       "      <th>Timestamp</th>\n",
       "      <th>id</th>\n",
       "      <th>type</th>\n",
       "      <th>X</th>\n",
       "      <th>Y</th>\n",
       "    </tr>\n",
       "  </thead>\n",
       "  <tbody>\n",
       "    <tr>\n",
       "      <th>255</th>\n",
       "      <td>393236</td>\n",
       "      <td>2014-06-06 09:07:00</td>\n",
       "      <td>NaN</td>\n",
       "      <td>movement</td>\n",
       "      <td>63.0</td>\n",
       "      <td>97.0</td>\n",
       "    </tr>\n",
       "    <tr>\n",
       "      <th>256</th>\n",
       "      <td>555680</td>\n",
       "      <td>2014-06-06 09:28:00</td>\n",
       "      <td>NaN</td>\n",
       "      <td>movement</td>\n",
       "      <td>35.0</td>\n",
       "      <td>38.0</td>\n",
       "    </tr>\n",
       "    <tr>\n",
       "      <th>257</th>\n",
       "      <td>5933369</td>\n",
       "      <td>2014-06-06 22:20:00</td>\n",
       "      <td>NaN</td>\n",
       "      <td>movement</td>\n",
       "      <td>34.0</td>\n",
       "      <td>64.0</td>\n",
       "    </tr>\n",
       "    <tr>\n",
       "      <th>258</th>\n",
       "      <td>2819008</td>\n",
       "      <td>2014-06-06 14:11:00</td>\n",
       "      <td>NaN</td>\n",
       "      <td>movement</td>\n",
       "      <td>54.0</td>\n",
       "      <td>30.0</td>\n",
       "    </tr>\n",
       "    <tr>\n",
       "      <th>259</th>\n",
       "      <td>2585378</td>\n",
       "      <td>2014-06-06 13:40:00</td>\n",
       "      <td>NaN</td>\n",
       "      <td>movement</td>\n",
       "      <td>84.0</td>\n",
       "      <td>44.0</td>\n",
       "    </tr>\n",
       "    <tr>\n",
       "      <th>260</th>\n",
       "      <td>112781</td>\n",
       "      <td>2014-06-06 08:31:00</td>\n",
       "      <td>NaN</td>\n",
       "      <td>movement</td>\n",
       "      <td>69.0</td>\n",
       "      <td>75.0</td>\n",
       "    </tr>\n",
       "    <tr>\n",
       "      <th>261</th>\n",
       "      <td>1569826</td>\n",
       "      <td>2014-06-06 11:31:00</td>\n",
       "      <td>NaN</td>\n",
       "      <td>movement</td>\n",
       "      <td>78.0</td>\n",
       "      <td>73.0</td>\n",
       "    </tr>\n",
       "    <tr>\n",
       "      <th>262</th>\n",
       "      <td>3915631</td>\n",
       "      <td>2014-06-06 16:43:00</td>\n",
       "      <td>NaN</td>\n",
       "      <td>movement</td>\n",
       "      <td>29.0</td>\n",
       "      <td>58.0</td>\n",
       "    </tr>\n",
       "    <tr>\n",
       "      <th>263</th>\n",
       "      <td>3120336</td>\n",
       "      <td>2014-06-06 14:49:00</td>\n",
       "      <td>NaN</td>\n",
       "      <td>movement</td>\n",
       "      <td>63.0</td>\n",
       "      <td>40.0</td>\n",
       "    </tr>\n",
       "    <tr>\n",
       "      <th>264</th>\n",
       "      <td>1773006</td>\n",
       "      <td>2014-06-06 11:56:00</td>\n",
       "      <td>NaN</td>\n",
       "      <td>movement</td>\n",
       "      <td>63.0</td>\n",
       "      <td>35.0</td>\n",
       "    </tr>\n",
       "    <tr>\n",
       "      <th>265</th>\n",
       "      <td>5285826</td>\n",
       "      <td>2014-06-06 20:03:00</td>\n",
       "      <td>NaN</td>\n",
       "      <td>movement</td>\n",
       "      <td>67.0</td>\n",
       "      <td>33.0</td>\n",
       "    </tr>\n",
       "    <tr>\n",
       "      <th>532</th>\n",
       "      <td>3090693</td>\n",
       "      <td>2014-06-06 14:46:00</td>\n",
       "      <td>697497.0</td>\n",
       "      <td>NaN</td>\n",
       "      <td>55.0</td>\n",
       "      <td>48.0</td>\n",
       "    </tr>\n",
       "    <tr>\n",
       "      <th>533</th>\n",
       "      <td>2060799</td>\n",
       "      <td>2014-06-06 12:32:00</td>\n",
       "      <td>1919714.0</td>\n",
       "      <td>NaN</td>\n",
       "      <td>54.0</td>\n",
       "      <td>30.0</td>\n",
       "    </tr>\n",
       "    <tr>\n",
       "      <th>534</th>\n",
       "      <td>5677183</td>\n",
       "      <td>2014-06-06 21:11:00</td>\n",
       "      <td>1941845.0</td>\n",
       "      <td>NaN</td>\n",
       "      <td>18.0</td>\n",
       "      <td>66.0</td>\n",
       "    </tr>\n",
       "    <tr>\n",
       "      <th>535</th>\n",
       "      <td>476076</td>\n",
       "      <td>2014-06-06 09:18:00</td>\n",
       "      <td>536972.0</td>\n",
       "      <td>NaN</td>\n",
       "      <td>58.0</td>\n",
       "      <td>69.0</td>\n",
       "    </tr>\n",
       "    <tr>\n",
       "      <th>536</th>\n",
       "      <td>2495880</td>\n",
       "      <td>2014-06-06 13:29:00</td>\n",
       "      <td>867873.0</td>\n",
       "      <td>NaN</td>\n",
       "      <td>31.0</td>\n",
       "      <td>66.0</td>\n",
       "    </tr>\n",
       "    <tr>\n",
       "      <th>537</th>\n",
       "      <td>5160679</td>\n",
       "      <td>2014-06-06 19:42:00</td>\n",
       "      <td>7339.0</td>\n",
       "      <td>NaN</td>\n",
       "      <td>26.0</td>\n",
       "      <td>56.0</td>\n",
       "    </tr>\n",
       "    <tr>\n",
       "      <th>538</th>\n",
       "      <td>5903106</td>\n",
       "      <td>2014-06-06 22:11:00</td>\n",
       "      <td>1212680.0</td>\n",
       "      <td>NaN</td>\n",
       "      <td>42.0</td>\n",
       "      <td>77.0</td>\n",
       "    </tr>\n",
       "    <tr>\n",
       "      <th>1021</th>\n",
       "      <td>1435143</td>\n",
       "      <td>2014-06-06 11:15:00</td>\n",
       "      <td>459445.0</td>\n",
       "      <td>NaN</td>\n",
       "      <td>43.0</td>\n",
       "      <td>20.0</td>\n",
       "    </tr>\n",
       "    <tr>\n",
       "      <th>1022</th>\n",
       "      <td>585431</td>\n",
       "      <td>2014-06-06 09:32:00</td>\n",
       "      <td>897556.0</td>\n",
       "      <td>NaN</td>\n",
       "      <td>42.0</td>\n",
       "      <td>20.0</td>\n",
       "    </tr>\n",
       "    <tr>\n",
       "      <th>1023</th>\n",
       "      <td>4876950</td>\n",
       "      <td>2014-06-06 19:00:00</td>\n",
       "      <td>272624.0</td>\n",
       "      <td>NaN</td>\n",
       "      <td>61.0</td>\n",
       "      <td>33.0</td>\n",
       "    </tr>\n",
       "    <tr>\n",
       "      <th>1024</th>\n",
       "      <td>3794305</td>\n",
       "      <td>2014-06-06 16:26:00</td>\n",
       "      <td>1297648.0</td>\n",
       "      <td>NaN</td>\n",
       "      <td>69.0</td>\n",
       "      <td>73.0</td>\n",
       "    </tr>\n",
       "    <tr>\n",
       "      <th>1025</th>\n",
       "      <td>5374691</td>\n",
       "      <td>2014-06-06 20:15:00</td>\n",
       "      <td>1029556.0</td>\n",
       "      <td>NaN</td>\n",
       "      <td>54.0</td>\n",
       "      <td>86.0</td>\n",
       "    </tr>\n",
       "    <tr>\n",
       "      <th>1026</th>\n",
       "      <td>371953</td>\n",
       "      <td>2014-06-06 09:04:00</td>\n",
       "      <td>1494148.0</td>\n",
       "      <td>NaN</td>\n",
       "      <td>62.0</td>\n",
       "      <td>37.0</td>\n",
       "    </tr>\n",
       "    <tr>\n",
       "      <th>1027</th>\n",
       "      <td>998356</td>\n",
       "      <td>2014-06-06 10:21:00</td>\n",
       "      <td>170430.0</td>\n",
       "      <td>NaN</td>\n",
       "      <td>67.0</td>\n",
       "      <td>55.0</td>\n",
       "    </tr>\n",
       "    <tr>\n",
       "      <th>1028</th>\n",
       "      <td>1088878</td>\n",
       "      <td>2014-06-06 10:34:00</td>\n",
       "      <td>1346967.0</td>\n",
       "      <td>NaN</td>\n",
       "      <td>72.0</td>\n",
       "      <td>81.0</td>\n",
       "    </tr>\n",
       "    <tr>\n",
       "      <th>1029</th>\n",
       "      <td>1110076</td>\n",
       "      <td>2014-06-06 10:37:00</td>\n",
       "      <td>1786015.0</td>\n",
       "      <td>NaN</td>\n",
       "      <td>24.0</td>\n",
       "      <td>67.0</td>\n",
       "    </tr>\n",
       "    <tr>\n",
       "      <th>1030</th>\n",
       "      <td>1828271</td>\n",
       "      <td>2014-06-06 12:03:00</td>\n",
       "      <td>1612584.0</td>\n",
       "      <td>NaN</td>\n",
       "      <td>22.0</td>\n",
       "      <td>66.0</td>\n",
       "    </tr>\n",
       "    <tr>\n",
       "      <th>1031</th>\n",
       "      <td>3850684</td>\n",
       "      <td>2014-06-06 16:33:00</td>\n",
       "      <td>127569.0</td>\n",
       "      <td>NaN</td>\n",
       "      <td>84.0</td>\n",
       "      <td>78.0</td>\n",
       "    </tr>\n",
       "    <tr>\n",
       "      <th>1032</th>\n",
       "      <td>1810708</td>\n",
       "      <td>2014-06-06 12:01:00</td>\n",
       "      <td>48730.0</td>\n",
       "      <td>NaN</td>\n",
       "      <td>90.0</td>\n",
       "      <td>51.0</td>\n",
       "    </tr>\n",
       "    <tr>\n",
       "      <th>...</th>\n",
       "      <td>...</td>\n",
       "      <td>...</td>\n",
       "      <td>...</td>\n",
       "      <td>...</td>\n",
       "      <td>...</td>\n",
       "      <td>...</td>\n",
       "    </tr>\n",
       "    <tr>\n",
       "      <th>32904</th>\n",
       "      <td>2350078</td>\n",
       "      <td>2014-06-06 13:08:00</td>\n",
       "      <td>7339.0</td>\n",
       "      <td>movement</td>\n",
       "      <td>NaN</td>\n",
       "      <td>59.0</td>\n",
       "    </tr>\n",
       "    <tr>\n",
       "      <th>32905</th>\n",
       "      <td>4968336</td>\n",
       "      <td>2014-06-06 19:14:00</td>\n",
       "      <td>1640316.0</td>\n",
       "      <td>movement</td>\n",
       "      <td>NaN</td>\n",
       "      <td>53.0</td>\n",
       "    </tr>\n",
       "    <tr>\n",
       "      <th>32906</th>\n",
       "      <td>508887</td>\n",
       "      <td>2014-06-06 09:22:00</td>\n",
       "      <td>1383457.0</td>\n",
       "      <td>movement</td>\n",
       "      <td>NaN</td>\n",
       "      <td>41.0</td>\n",
       "    </tr>\n",
       "    <tr>\n",
       "      <th>32907</th>\n",
       "      <td>2916268</td>\n",
       "      <td>2014-06-06 14:25:00</td>\n",
       "      <td>821837.0</td>\n",
       "      <td>movement</td>\n",
       "      <td>NaN</td>\n",
       "      <td>29.0</td>\n",
       "    </tr>\n",
       "    <tr>\n",
       "      <th>32908</th>\n",
       "      <td>2964632</td>\n",
       "      <td>2014-06-06 14:31:00</td>\n",
       "      <td>1188103.0</td>\n",
       "      <td>movement</td>\n",
       "      <td>NaN</td>\n",
       "      <td>79.0</td>\n",
       "    </tr>\n",
       "    <tr>\n",
       "      <th>32909</th>\n",
       "      <td>143707</td>\n",
       "      <td>2014-06-06 08:37:00</td>\n",
       "      <td>470762.0</td>\n",
       "      <td>movement</td>\n",
       "      <td>NaN</td>\n",
       "      <td>91.0</td>\n",
       "    </tr>\n",
       "    <tr>\n",
       "      <th>32910</th>\n",
       "      <td>4053689</td>\n",
       "      <td>2014-06-06 17:02:00</td>\n",
       "      <td>2075504.0</td>\n",
       "      <td>movement</td>\n",
       "      <td>NaN</td>\n",
       "      <td>42.0</td>\n",
       "    </tr>\n",
       "    <tr>\n",
       "      <th>32911</th>\n",
       "      <td>592412</td>\n",
       "      <td>2014-06-06 09:32:00</td>\n",
       "      <td>970547.0</td>\n",
       "      <td>movement</td>\n",
       "      <td>NaN</td>\n",
       "      <td>39.0</td>\n",
       "    </tr>\n",
       "    <tr>\n",
       "      <th>32912</th>\n",
       "      <td>5025782</td>\n",
       "      <td>2014-06-06 19:22:00</td>\n",
       "      <td>661980.0</td>\n",
       "      <td>movement</td>\n",
       "      <td>NaN</td>\n",
       "      <td>63.0</td>\n",
       "    </tr>\n",
       "    <tr>\n",
       "      <th>32913</th>\n",
       "      <td>1187324</td>\n",
       "      <td>2014-06-06 10:47:00</td>\n",
       "      <td>1621849.0</td>\n",
       "      <td>check-in</td>\n",
       "      <td>NaN</td>\n",
       "      <td>37.0</td>\n",
       "    </tr>\n",
       "    <tr>\n",
       "      <th>33323</th>\n",
       "      <td>3222906</td>\n",
       "      <td>2014-06-06 15:05:00</td>\n",
       "      <td>1331768.0</td>\n",
       "      <td>movement</td>\n",
       "      <td>20.0</td>\n",
       "      <td>NaN</td>\n",
       "    </tr>\n",
       "    <tr>\n",
       "      <th>33324</th>\n",
       "      <td>4678977</td>\n",
       "      <td>2014-06-06 18:30:00</td>\n",
       "      <td>284296.0</td>\n",
       "      <td>movement</td>\n",
       "      <td>21.0</td>\n",
       "      <td>NaN</td>\n",
       "    </tr>\n",
       "    <tr>\n",
       "      <th>33325</th>\n",
       "      <td>5219789</td>\n",
       "      <td>2014-06-06 19:53:00</td>\n",
       "      <td>1843348.0</td>\n",
       "      <td>movement</td>\n",
       "      <td>49.0</td>\n",
       "      <td>NaN</td>\n",
       "    </tr>\n",
       "    <tr>\n",
       "      <th>33326</th>\n",
       "      <td>79027</td>\n",
       "      <td>2014-06-06 08:24:00</td>\n",
       "      <td>1709971.0</td>\n",
       "      <td>movement</td>\n",
       "      <td>78.0</td>\n",
       "      <td>NaN</td>\n",
       "    </tr>\n",
       "    <tr>\n",
       "      <th>33327</th>\n",
       "      <td>3273919</td>\n",
       "      <td>2014-06-06 15:13:00</td>\n",
       "      <td>1358002.0</td>\n",
       "      <td>movement</td>\n",
       "      <td>54.0</td>\n",
       "      <td>NaN</td>\n",
       "    </tr>\n",
       "    <tr>\n",
       "      <th>33328</th>\n",
       "      <td>2620566</td>\n",
       "      <td>2014-06-06 13:45:00</td>\n",
       "      <td>56467.0</td>\n",
       "      <td>movement</td>\n",
       "      <td>34.0</td>\n",
       "      <td>NaN</td>\n",
       "    </tr>\n",
       "    <tr>\n",
       "      <th>33329</th>\n",
       "      <td>2469371</td>\n",
       "      <td>2014-06-06 13:25:00</td>\n",
       "      <td>1528551.0</td>\n",
       "      <td>movement</td>\n",
       "      <td>51.0</td>\n",
       "      <td>NaN</td>\n",
       "    </tr>\n",
       "    <tr>\n",
       "      <th>33330</th>\n",
       "      <td>2805278</td>\n",
       "      <td>2014-06-06 14:10:00</td>\n",
       "      <td>161395.0</td>\n",
       "      <td>movement</td>\n",
       "      <td>59.0</td>\n",
       "      <td>NaN</td>\n",
       "    </tr>\n",
       "    <tr>\n",
       "      <th>33331</th>\n",
       "      <td>4741251</td>\n",
       "      <td>2014-06-06 18:40:00</td>\n",
       "      <td>949503.0</td>\n",
       "      <td>movement</td>\n",
       "      <td>15.0</td>\n",
       "      <td>NaN</td>\n",
       "    </tr>\n",
       "    <tr>\n",
       "      <th>33332</th>\n",
       "      <td>3976217</td>\n",
       "      <td>2014-06-06 16:52:00</td>\n",
       "      <td>612108.0</td>\n",
       "      <td>movement</td>\n",
       "      <td>21.0</td>\n",
       "      <td>NaN</td>\n",
       "    </tr>\n",
       "    <tr>\n",
       "      <th>33333</th>\n",
       "      <td>1793942</td>\n",
       "      <td>2014-06-06 11:59:00</td>\n",
       "      <td>725019.0</td>\n",
       "      <td>movement</td>\n",
       "      <td>68.0</td>\n",
       "      <td>NaN</td>\n",
       "    </tr>\n",
       "    <tr>\n",
       "      <th>33334</th>\n",
       "      <td>2205011</td>\n",
       "      <td>2014-06-06 12:50:00</td>\n",
       "      <td>1082862.0</td>\n",
       "      <td>movement</td>\n",
       "      <td>61.0</td>\n",
       "      <td>NaN</td>\n",
       "    </tr>\n",
       "    <tr>\n",
       "      <th>33335</th>\n",
       "      <td>2594474</td>\n",
       "      <td>2014-06-06 13:42:00</td>\n",
       "      <td>442925.0</td>\n",
       "      <td>movement</td>\n",
       "      <td>83.0</td>\n",
       "      <td>NaN</td>\n",
       "    </tr>\n",
       "    <tr>\n",
       "      <th>33336</th>\n",
       "      <td>1815162</td>\n",
       "      <td>2014-06-06 12:02:00</td>\n",
       "      <td>412282.0</td>\n",
       "      <td>movement</td>\n",
       "      <td>38.0</td>\n",
       "      <td>NaN</td>\n",
       "    </tr>\n",
       "    <tr>\n",
       "      <th>33337</th>\n",
       "      <td>3852015</td>\n",
       "      <td>2014-06-06 16:33:00</td>\n",
       "      <td>1030195.0</td>\n",
       "      <td>movement</td>\n",
       "      <td>35.0</td>\n",
       "      <td>NaN</td>\n",
       "    </tr>\n",
       "    <tr>\n",
       "      <th>33338</th>\n",
       "      <td>5719248</td>\n",
       "      <td>2014-06-06 21:20:00</td>\n",
       "      <td>590966.0</td>\n",
       "      <td>movement</td>\n",
       "      <td>63.0</td>\n",
       "      <td>NaN</td>\n",
       "    </tr>\n",
       "    <tr>\n",
       "      <th>33339</th>\n",
       "      <td>3265129</td>\n",
       "      <td>2014-06-06 15:11:00</td>\n",
       "      <td>1394838.0</td>\n",
       "      <td>movement</td>\n",
       "      <td>52.0</td>\n",
       "      <td>NaN</td>\n",
       "    </tr>\n",
       "    <tr>\n",
       "      <th>33340</th>\n",
       "      <td>3631787</td>\n",
       "      <td>2014-06-06 16:06:00</td>\n",
       "      <td>415384.0</td>\n",
       "      <td>movement</td>\n",
       "      <td>49.0</td>\n",
       "      <td>NaN</td>\n",
       "    </tr>\n",
       "    <tr>\n",
       "      <th>33341</th>\n",
       "      <td>3940798</td>\n",
       "      <td>2014-06-06 16:46:00</td>\n",
       "      <td>269197.0</td>\n",
       "      <td>movement</td>\n",
       "      <td>51.0</td>\n",
       "      <td>NaN</td>\n",
       "    </tr>\n",
       "    <tr>\n",
       "      <th>33342</th>\n",
       "      <td>599363</td>\n",
       "      <td>2014-06-06 09:33:00</td>\n",
       "      <td>1678754.0</td>\n",
       "      <td>movement</td>\n",
       "      <td>40.0</td>\n",
       "      <td>NaN</td>\n",
       "    </tr>\n",
       "  </tbody>\n",
       "</table>\n",
       "<p>132 rows × 6 columns</p>\n",
       "</div>"
      ],
      "text/plain": [
       "       Unnamed: 0           Timestamp         id      type     X     Y\n",
       "255        393236 2014-06-06 09:07:00        NaN  movement  63.0  97.0\n",
       "256        555680 2014-06-06 09:28:00        NaN  movement  35.0  38.0\n",
       "257       5933369 2014-06-06 22:20:00        NaN  movement  34.0  64.0\n",
       "258       2819008 2014-06-06 14:11:00        NaN  movement  54.0  30.0\n",
       "259       2585378 2014-06-06 13:40:00        NaN  movement  84.0  44.0\n",
       "260        112781 2014-06-06 08:31:00        NaN  movement  69.0  75.0\n",
       "261       1569826 2014-06-06 11:31:00        NaN  movement  78.0  73.0\n",
       "262       3915631 2014-06-06 16:43:00        NaN  movement  29.0  58.0\n",
       "263       3120336 2014-06-06 14:49:00        NaN  movement  63.0  40.0\n",
       "264       1773006 2014-06-06 11:56:00        NaN  movement  63.0  35.0\n",
       "265       5285826 2014-06-06 20:03:00        NaN  movement  67.0  33.0\n",
       "532       3090693 2014-06-06 14:46:00   697497.0       NaN  55.0  48.0\n",
       "533       2060799 2014-06-06 12:32:00  1919714.0       NaN  54.0  30.0\n",
       "534       5677183 2014-06-06 21:11:00  1941845.0       NaN  18.0  66.0\n",
       "535        476076 2014-06-06 09:18:00   536972.0       NaN  58.0  69.0\n",
       "536       2495880 2014-06-06 13:29:00   867873.0       NaN  31.0  66.0\n",
       "537       5160679 2014-06-06 19:42:00     7339.0       NaN  26.0  56.0\n",
       "538       5903106 2014-06-06 22:11:00  1212680.0       NaN  42.0  77.0\n",
       "1021      1435143 2014-06-06 11:15:00   459445.0       NaN  43.0  20.0\n",
       "1022       585431 2014-06-06 09:32:00   897556.0       NaN  42.0  20.0\n",
       "1023      4876950 2014-06-06 19:00:00   272624.0       NaN  61.0  33.0\n",
       "1024      3794305 2014-06-06 16:26:00  1297648.0       NaN  69.0  73.0\n",
       "1025      5374691 2014-06-06 20:15:00  1029556.0       NaN  54.0  86.0\n",
       "1026       371953 2014-06-06 09:04:00  1494148.0       NaN  62.0  37.0\n",
       "1027       998356 2014-06-06 10:21:00   170430.0       NaN  67.0  55.0\n",
       "1028      1088878 2014-06-06 10:34:00  1346967.0       NaN  72.0  81.0\n",
       "1029      1110076 2014-06-06 10:37:00  1786015.0       NaN  24.0  67.0\n",
       "1030      1828271 2014-06-06 12:03:00  1612584.0       NaN  22.0  66.0\n",
       "1031      3850684 2014-06-06 16:33:00   127569.0       NaN  84.0  78.0\n",
       "1032      1810708 2014-06-06 12:01:00    48730.0       NaN  90.0  51.0\n",
       "...           ...                 ...        ...       ...   ...   ...\n",
       "32904     2350078 2014-06-06 13:08:00     7339.0  movement   NaN  59.0\n",
       "32905     4968336 2014-06-06 19:14:00  1640316.0  movement   NaN  53.0\n",
       "32906      508887 2014-06-06 09:22:00  1383457.0  movement   NaN  41.0\n",
       "32907     2916268 2014-06-06 14:25:00   821837.0  movement   NaN  29.0\n",
       "32908     2964632 2014-06-06 14:31:00  1188103.0  movement   NaN  79.0\n",
       "32909      143707 2014-06-06 08:37:00   470762.0  movement   NaN  91.0\n",
       "32910     4053689 2014-06-06 17:02:00  2075504.0  movement   NaN  42.0\n",
       "32911      592412 2014-06-06 09:32:00   970547.0  movement   NaN  39.0\n",
       "32912     5025782 2014-06-06 19:22:00   661980.0  movement   NaN  63.0\n",
       "32913     1187324 2014-06-06 10:47:00  1621849.0  check-in   NaN  37.0\n",
       "33323     3222906 2014-06-06 15:05:00  1331768.0  movement  20.0   NaN\n",
       "33324     4678977 2014-06-06 18:30:00   284296.0  movement  21.0   NaN\n",
       "33325     5219789 2014-06-06 19:53:00  1843348.0  movement  49.0   NaN\n",
       "33326       79027 2014-06-06 08:24:00  1709971.0  movement  78.0   NaN\n",
       "33327     3273919 2014-06-06 15:13:00  1358002.0  movement  54.0   NaN\n",
       "33328     2620566 2014-06-06 13:45:00    56467.0  movement  34.0   NaN\n",
       "33329     2469371 2014-06-06 13:25:00  1528551.0  movement  51.0   NaN\n",
       "33330     2805278 2014-06-06 14:10:00   161395.0  movement  59.0   NaN\n",
       "33331     4741251 2014-06-06 18:40:00   949503.0  movement  15.0   NaN\n",
       "33332     3976217 2014-06-06 16:52:00   612108.0  movement  21.0   NaN\n",
       "33333     1793942 2014-06-06 11:59:00   725019.0  movement  68.0   NaN\n",
       "33334     2205011 2014-06-06 12:50:00  1082862.0  movement  61.0   NaN\n",
       "33335     2594474 2014-06-06 13:42:00   442925.0  movement  83.0   NaN\n",
       "33336     1815162 2014-06-06 12:02:00   412282.0  movement  38.0   NaN\n",
       "33337     3852015 2014-06-06 16:33:00  1030195.0  movement  35.0   NaN\n",
       "33338     5719248 2014-06-06 21:20:00   590966.0  movement  63.0   NaN\n",
       "33339     3265129 2014-06-06 15:11:00  1394838.0  movement  52.0   NaN\n",
       "33340     3631787 2014-06-06 16:06:00   415384.0  movement  49.0   NaN\n",
       "33341     3940798 2014-06-06 16:46:00   269197.0  movement  51.0   NaN\n",
       "33342      599363 2014-06-06 09:33:00  1678754.0  movement  40.0   NaN\n",
       "\n",
       "[132 rows x 6 columns]"
      ]
     },
     "execution_count": 19,
     "metadata": {},
     "output_type": "execute_result"
    }
   ],
   "source": [
    "visitors_data[visitors_data.isnull().any(axis=1)]"
   ]
  },
  {
   "cell_type": "code",
   "execution_count": 20,
   "metadata": {},
   "outputs": [
    {
     "data": {
      "text/plain": [
       "132"
      ]
     },
     "execution_count": 20,
     "metadata": {},
     "output_type": "execute_result"
    }
   ],
   "source": [
    "visitors_data.isnull().any(axis=1).sum()"
   ]
  },
  {
   "cell_type": "markdown",
   "metadata": {},
   "source": [
    "As we see above, there are very few rows with missing values compared to the total amount (132 of 1048575 or 0.01%). Thus, for complexity's sake, I decided to remove those lines altogether and not handle them in the individual analysis tasks."
   ]
  },
  {
   "cell_type": "code",
   "execution_count": 21,
   "metadata": {},
   "outputs": [],
   "source": [
    "visitors_data = visitors_data.dropna()"
   ]
  },
  {
   "cell_type": "markdown",
   "metadata": {},
   "source": [
    "### Removing trajectory anomalies"
   ]
  },
  {
   "cell_type": "code",
   "execution_count": 22,
   "metadata": {},
   "outputs": [
    {
     "data": {
      "image/png": "[encoded data removed]",
      "text/plain": [
       "<Figure size 432x288 with 1 Axes>"
      ]
     },
     "metadata": {},
     "output_type": "display_data"
    }
   ],
   "source": [
    "plt.scatter(visitors_data['X'], visitors_data['Y'], label='Visitor Movement')\n",
    "plt.legend()\n",
    "plt.xlabel(\"X Coordinate\")\n",
    "plt.ylabel(\"Y Coordinate\")\n",
    "plt.title('Visitor movement in the park')\n",
    "plt.show()"
   ]
  },
  {
   "cell_type": "markdown",
   "metadata": {},
   "source": [
    "As supected from the summary values, we can see that there are some anomalies in the x and y locations. To filter these out, let us calculate the dimensions of the park based on the x and y locations of the attractions and filter out trajectory data that falls beyond those dimensions."
   ]
  },
  {
   "cell_type": "code",
   "execution_count": 23,
   "metadata": {},
   "outputs": [
    {
     "name": "stdout",
     "output_type": "stream",
     "text": [
      "There are 23 anomalies filtered out.\n"
     ]
    }
   ],
   "source": [
    "x_max = ride_details['x-coor entrance'].max()\n",
    "x_min = ride_details['x-coor entrance'].min()\n",
    "x_range = x_max - x_min\n",
    "y_max = ride_details['y-coor entrance'].max()\n",
    "y_min = ride_details['y-coor entrance'].min()\n",
    "y_range = y_max - y_min\n",
    "\n",
    "# Use these values to calculate the dimensions of the park, allowing the park to be 10% larger than the rectangle provided by the attraction locations\n",
    "park_x_min = x_min - 0.1 * x_range\n",
    "park_x_max = x_max + 0.1 * x_range\n",
    "park_y_min = y_min - 0.1 * y_range\n",
    "park_y_max = y_max + 0.1 * y_range\n",
    "\n",
    "# Filter trajectory data\n",
    "anomaly_filter = (park_x_min > visitors_data['X']) | (visitors_data['X'] > park_x_max) | (park_y_min > visitors_data['Y']) | (visitors_data['Y'] > park_y_max)\n",
    "print(f\"There are {anomaly_filter.sum()} anomalies filtered out.\")\n",
    "visitors_data.drop(visitors_data[anomaly_filter].index, inplace=True)"
   ]
  },
  {
   "cell_type": "code",
   "execution_count": 24,
   "metadata": {},
   "outputs": [
    {
     "data": {
      "image/png": "[encoded data removed]",
      "text/plain": [
       "<Figure size 432x288 with 1 Axes>"
      ]
     },
     "metadata": {},
     "output_type": "display_data"
    }
   ],
   "source": [
    "plt.scatter(visitors_data['X'], visitors_data['Y'], label='Visitor Movement')\n",
    "plt.legend()\n",
    "plt.xlabel(\"X Coordinate\")\n",
    "plt.ylabel(\"Y Coordinate\")\n",
    "plt.title('Visitor movement in the park')\n",
    "plt.show()"
   ]
  },
  {
   "cell_type": "markdown",
   "metadata": {},
   "source": [
    "## Exploratory Analysis"
   ]
  },
  {
   "cell_type": "code",
   "execution_count": 54,
   "metadata": {},
   "outputs": [
    {
     "data": {
      "text/plain": [
       "Text(0,0.5,'Y Coordinate')"
      ]
     },
     "execution_count": 54,
     "metadata": {},
     "output_type": "execute_result"
    },
    {
     "data": {
      "image/png": "[encoded data removed]",
      "text/plain": [
       "<Figure size 432x288 with 2 Axes>"
      ]
     },
     "metadata": {},
     "output_type": "display_data"
    }
   ],
   "source": [
    "hb = plt.hexbin(visitors_data['X'], visitors_data['Y'], cmap='Greens', label='Visitor Movement', gridsize=30)\n",
    "sc = plt.scatter(ride_details['x-coor entrance'], ride_details['y-coor entrance'], c='r', label='Attractions')\n",
    "plt.colorbar(hb)\n",
    "plt.title(\"Visitor density on the park walkways with attractions (red)\")\n",
    "plt.xlabel(\"X Coordinate\")\n",
    "plt.ylabel(\"Y Coordinate\")"
   ]
  },
  {
   "cell_type": "markdown",
   "metadata": {},
   "source": [
    "Here, we can see that although in the upper right corner are many attractions, the visitors do not tend to spend much time there."
   ]
  },
  {
   "cell_type": "markdown",
   "metadata": {},
   "source": [
    "## Visualizations from Exercise"
   ]
  },
  {
   "cell_type": "markdown",
   "metadata": {},
   "source": [
    "### (d) Using visitor trajectory details, reconstruct the park map and overlay the park attractions."
   ]
  },
  {
   "cell_type": "code",
   "execution_count": 25,
   "metadata": {},
   "outputs": [
    {
     "data": {
      "image/png": "[encoded data removed]",
      "text/plain": [
       "<Figure size 432x288 with 1 Axes>"
      ]
     },
     "metadata": {},
     "output_type": "display_data"
    }
   ],
   "source": [
    "plt.scatter(visitors_data['X'], visitors_data['Y'], label='Visitor Movement')\n",
    "plt.scatter(ride_details['x-coor entrance'], ride_details['y-coor entrance'], label='Attractions')\n",
    "# Set park dimensions based on location of attraction positions\n",
    "plt.show()"
   ]
  },
  {
   "cell_type": "markdown",
   "metadata": {},
   "source": [
    "### (e) Analyse the movement of a random guest through the park as a function of time."
   ]
  },
  {
   "cell_type": "code",
   "execution_count": 76,
   "metadata": {},
   "outputs": [
    {
     "data": {
      "image/png": "[encoded data removed]",
      "text/plain": [
       "<Figure size 432x288 with 2 Axes>"
      ]
     },
     "metadata": {},
     "output_type": "display_data"
    }
   ],
   "source": [
    "random_visitor_id = random.choice(visitors_data['id'].unique())\n",
    "random_visitor_data = visitors_data[visitors_data['id'] == random_visitor_id]\n",
    "random_visitor_movement = random_visitor_data[random_visitor_data['type'] == 'movement']\n",
    "random_visitor_checkins = random_visitor_data[random_visitor_data['type'] == 'check-in']\n",
    "random_visitor_data.sort_values(['Timestamp']).reset_index(drop=True, inplace=True)\n",
    "sc = plt.scatter(random_visitor_movement['X'], \n",
    "            random_visitor_movement['Y'], \n",
    "            c=random_visitor_movement[\"Timestamp\"],\n",
    "            cmap='Greys',\n",
    "            label='Visitor Momvement')\n",
    "plt.colorbar(sc)\n",
    "plt.scatter(ride_details['x-coor entrance'], ride_details['y-coor entrance'], c='green', label='Attractions')\n",
    "plt.scatter(random_visitor_checkins['X'], random_visitor_checkins['Y'], c='red', label='Check-Ins')\n",
    "plt.legend()\n",
    "plt.title('Visitor movement over time (white to black) with check-ins in red and additional attractions in green')\n",
    "plt.show()"
   ]
  },
  {
   "cell_type": "code",
   "execution_count": 27,
   "metadata": {},
   "outputs": [
    {
     "data": {
      "text/html": [
       "<div>\n",
       "<style scoped>\n",
       "    .dataframe tbody tr th:only-of-type {\n",
       "        vertical-align: middle;\n",
       "    }\n",
       "\n",
       "    .dataframe tbody tr th {\n",
       "        vertical-align: top;\n",
       "    }\n",
       "\n",
       "    .dataframe thead th {\n",
       "        text-align: right;\n",
       "    }\n",
       "</style>\n",
       "<table border=\"1\" class=\"dataframe\">\n",
       "  <thead>\n",
       "    <tr style=\"text-align: right;\">\n",
       "      <th></th>\n",
       "      <th>Unnamed: 0</th>\n",
       "      <th>Timestamp</th>\n",
       "      <th>id</th>\n",
       "      <th>type</th>\n",
       "      <th>X</th>\n",
       "      <th>Y</th>\n",
       "    </tr>\n",
       "  </thead>\n",
       "  <tbody>\n",
       "    <tr>\n",
       "      <th>631108</th>\n",
       "      <td>95894</td>\n",
       "      <td>2014-06-06 08:28:00</td>\n",
       "      <td>1287048.0</td>\n",
       "      <td>movement</td>\n",
       "      <td>64.0</td>\n",
       "      <td>94.0</td>\n",
       "    </tr>\n",
       "    <tr>\n",
       "      <th>455180</th>\n",
       "      <td>96909</td>\n",
       "      <td>2014-06-06 08:28:00</td>\n",
       "      <td>1287048.0</td>\n",
       "      <td>movement</td>\n",
       "      <td>64.0</td>\n",
       "      <td>93.0</td>\n",
       "    </tr>\n",
       "    <tr>\n",
       "      <th>328982</th>\n",
       "      <td>100102</td>\n",
       "      <td>2014-06-06 08:29:00</td>\n",
       "      <td>1287048.0</td>\n",
       "      <td>movement</td>\n",
       "      <td>66.0</td>\n",
       "      <td>90.0</td>\n",
       "    </tr>\n",
       "    <tr>\n",
       "      <th>685480</th>\n",
       "      <td>105466</td>\n",
       "      <td>2014-06-06 08:30:00</td>\n",
       "      <td>1287048.0</td>\n",
       "      <td>movement</td>\n",
       "      <td>69.0</td>\n",
       "      <td>85.0</td>\n",
       "    </tr>\n",
       "    <tr>\n",
       "      <th>914097</th>\n",
       "      <td>113486</td>\n",
       "      <td>2014-06-06 08:31:00</td>\n",
       "      <td>1287048.0</td>\n",
       "      <td>movement</td>\n",
       "      <td>70.0</td>\n",
       "      <td>78.0</td>\n",
       "    </tr>\n",
       "  </tbody>\n",
       "</table>\n",
       "</div>"
      ],
      "text/plain": [
       "        Unnamed: 0           Timestamp         id      type     X     Y\n",
       "631108       95894 2014-06-06 08:28:00  1287048.0  movement  64.0  94.0\n",
       "455180       96909 2014-06-06 08:28:00  1287048.0  movement  64.0  93.0\n",
       "328982      100102 2014-06-06 08:29:00  1287048.0  movement  66.0  90.0\n",
       "685480      105466 2014-06-06 08:30:00  1287048.0  movement  69.0  85.0\n",
       "914097      113486 2014-06-06 08:31:00  1287048.0  movement  70.0  78.0"
      ]
     },
     "execution_count": 27,
     "metadata": {},
     "output_type": "execute_result"
    }
   ],
   "source": [
    "random_visitor_data.sort_values(['Timestamp']).head()"
   ]
  },
  {
   "cell_type": "markdown",
   "metadata": {},
   "source": [
    "### (f) Which attractions are the most popular? "
   ]
  },
  {
   "cell_type": "code",
   "execution_count": 112,
   "metadata": {},
   "outputs": [],
   "source": [
    "visitor_checkins = visitors_data.query('type == \"check-in\"')\n",
    "checkin_data = pd.merge(ride_details, visitor_checkins, right_on=['X', 'Y'], left_on=['x-coor entrance', 'y-coor entrance'], how='left')"
   ]
  },
  {
   "cell_type": "code",
   "execution_count": 113,
   "metadata": {},
   "outputs": [
    {
     "name": "stdout",
     "output_type": "stream",
     "text": [
      "Visitor Check-Ins: 14299\n",
      "Mapped Check-Ins: 13562\n"
     ]
    }
   ],
   "source": [
    "print(f\"Visitor Check-Ins: {visitor_checkins.count()['id']}\")\n",
    "print(f\"Mapped Check-Ins: {checkin_data.count()['id']}\")"
   ]
  },
  {
   "cell_type": "markdown",
   "metadata": {},
   "source": [
    "As we can see, not all check-ins could be mapped."
   ]
  },
  {
   "cell_type": "code",
   "execution_count": 108,
   "metadata": {},
   "outputs": [
    {
     "data": {
      "text/plain": [
       "Index(['Park Guide Index', 'Real World Type', 'x-coor entrance',\n",
       "       'y-coor entrance', 'type_x', 'Unnamed: 0', 'Timestamp', 'id', 'type_y',\n",
       "       'X', 'Y'],\n",
       "      dtype='object')"
      ]
     },
     "execution_count": 108,
     "metadata": {},
     "output_type": "execute_result"
    }
   ],
   "source": [
    "checkin_data.columns"
   ]
  },
  {
   "cell_type": "code",
   "execution_count": 148,
   "metadata": {},
   "outputs": [
    {
     "data": {
      "text/html": [
       "<div>\n",
       "<style scoped>\n",
       "    .dataframe tbody tr th:only-of-type {\n",
       "        vertical-align: middle;\n",
       "    }\n",
       "\n",
       "    .dataframe tbody tr th {\n",
       "        vertical-align: top;\n",
       "    }\n",
       "\n",
       "    .dataframe thead th {\n",
       "        text-align: right;\n",
       "    }\n",
       "</style>\n",
       "<table border=\"1\" class=\"dataframe\">\n",
       "  <thead>\n",
       "    <tr style=\"text-align: right;\">\n",
       "      <th></th>\n",
       "      <th>visits</th>\n",
       "      <th>Attraction Type</th>\n",
       "      <th>Real World Type</th>\n",
       "    </tr>\n",
       "    <tr>\n",
       "      <th>Park Guide Index</th>\n",
       "      <th></th>\n",
       "      <th></th>\n",
       "      <th></th>\n",
       "    </tr>\n",
       "  </thead>\n",
       "  <tbody>\n",
       "    <tr>\n",
       "      <th>1</th>\n",
       "      <td>872</td>\n",
       "      <td>Thrill</td>\n",
       "      <td>Long Coaster</td>\n",
       "    </tr>\n",
       "    <tr>\n",
       "      <th>2</th>\n",
       "      <td>841</td>\n",
       "      <td>Thrill</td>\n",
       "      <td>Metal Coaster</td>\n",
       "    </tr>\n",
       "    <tr>\n",
       "      <th>6</th>\n",
       "      <td>840</td>\n",
       "      <td>Thrill</td>\n",
       "      <td>Centrifuge</td>\n",
       "    </tr>\n",
       "    <tr>\n",
       "      <th>3</th>\n",
       "      <td>824</td>\n",
       "      <td>Thrill</td>\n",
       "      <td>Wooden Coaster</td>\n",
       "    </tr>\n",
       "    <tr>\n",
       "      <th>81</th>\n",
       "      <td>807</td>\n",
       "      <td>Thrill</td>\n",
       "      <td>Ali Baba</td>\n",
       "    </tr>\n",
       "    <tr>\n",
       "      <th>7</th>\n",
       "      <td>769</td>\n",
       "      <td>Thrill</td>\n",
       "      <td>Fireball</td>\n",
       "    </tr>\n",
       "    <tr>\n",
       "      <th>4</th>\n",
       "      <td>769</td>\n",
       "      <td>Thrill</td>\n",
       "      <td>SkyDiver</td>\n",
       "    </tr>\n",
       "    <tr>\n",
       "      <th>5</th>\n",
       "      <td>755</td>\n",
       "      <td>Thrill</td>\n",
       "      <td>Wild Mouse</td>\n",
       "    </tr>\n",
       "    <tr>\n",
       "      <th>8</th>\n",
       "      <td>733</td>\n",
       "      <td>Thrill</td>\n",
       "      <td>Up and Back Coaster</td>\n",
       "    </tr>\n",
       "    <tr>\n",
       "      <th>32</th>\n",
       "      <td>722</td>\n",
       "      <td>Pavilion</td>\n",
       "      <td>Pavillion</td>\n",
       "    </tr>\n",
       "    <tr>\n",
       "      <th>64</th>\n",
       "      <td>368</td>\n",
       "      <td>Show Hall</td>\n",
       "      <td>Show Hall 1</td>\n",
       "    </tr>\n",
       "    <tr>\n",
       "      <th>100</th>\n",
       "      <td>346</td>\n",
       "      <td>Entrance</td>\n",
       "      <td>North Entrance</td>\n",
       "    </tr>\n",
       "    <tr>\n",
       "      <th>29</th>\n",
       "      <td>261</td>\n",
       "      <td>Everybody</td>\n",
       "      <td>Pirate Swing</td>\n",
       "    </tr>\n",
       "    <tr>\n",
       "      <th>24</th>\n",
       "      <td>239</td>\n",
       "      <td>Everybody</td>\n",
       "      <td>Log Flume</td>\n",
       "    </tr>\n",
       "    <tr>\n",
       "      <th>23</th>\n",
       "      <td>237</td>\n",
       "      <td>Everybody</td>\n",
       "      <td>Bumper Cars</td>\n",
       "    </tr>\n",
       "  </tbody>\n",
       "</table>\n",
       "</div>"
      ],
      "text/plain": [
       "                  visits Attraction Type      Real World Type\n",
       "Park Guide Index                                             \n",
       "1                    872          Thrill         Long Coaster\n",
       "2                    841          Thrill        Metal Coaster\n",
       "6                    840          Thrill           Centrifuge\n",
       "3                    824          Thrill       Wooden Coaster\n",
       "81                   807          Thrill             Ali Baba\n",
       "7                    769          Thrill             Fireball\n",
       "4                    769          Thrill             SkyDiver\n",
       "5                    755          Thrill           Wild Mouse\n",
       "8                    733          Thrill  Up and Back Coaster\n",
       "32                   722        Pavilion            Pavillion\n",
       "64                   368       Show Hall          Show Hall 1\n",
       "100                  346        Entrance       North Entrance\n",
       "29                   261       Everybody         Pirate Swing\n",
       "24                   239       Everybody            Log Flume\n",
       "23                   237       Everybody          Bumper Cars"
      ]
     },
     "execution_count": 148,
     "metadata": {},
     "output_type": "execute_result"
    }
   ],
   "source": [
    "rides_by_popularity = checkin_data.groupby('Park Guide Index').agg({'id' : 'count', 'type_x': 'first', 'Real World Type': 'first'}) \\\n",
    "    .rename(columns={'id': 'visits', 'type_x': 'Attraction Type'}).sort_values('visits', ascending=[False])\n",
    "rides_by_popularity.head(15)"
   ]
  },
  {
   "cell_type": "code",
   "execution_count": 165,
   "metadata": {},
   "outputs": [
    {
     "data": {
      "image/png": "[encoded data removed]",
      "text/plain": [
       "<Figure size 432x288 with 1 Axes>"
      ]
     },
     "metadata": {},
     "output_type": "display_data"
    }
   ],
   "source": [
    "most_popular_attractions = rides_by_popularity.head(15)\n",
    "attraction_type = most_popular_attractions['Real World Type']\n",
    "y_pos = np.arange(len(attraction_type))\n",
    "\n",
    "fig, ax = plt.subplots()\n",
    "\n",
    "ax.barh(y_pos, most_popular_attractions['visits'])\n",
    "ax.set_yticks(y_pos)\n",
    "ax.set_yticklabels(attraction_type)\n",
    "plt.show()"
   ]
  },
  {
   "cell_type": "markdown",
   "metadata": {},
   "source": [
    "As we can see, roller coasters are the most popular, followed by  other attractions of the type thrill."
   ]
  },
  {
   "cell_type": "markdown",
   "metadata": {},
   "source": [
    "### (g) What patterns can you observe from the frequency of visits to park attractions?"
   ]
  },
  {
   "cell_type": "code",
   "execution_count": 142,
   "metadata": {},
   "outputs": [
    {
     "data": {
      "text/html": [
       "<div>\n",
       "<style scoped>\n",
       "    .dataframe tbody tr th:only-of-type {\n",
       "        vertical-align: middle;\n",
       "    }\n",
       "\n",
       "    .dataframe tbody tr th {\n",
       "        vertical-align: top;\n",
       "    }\n",
       "\n",
       "    .dataframe thead th {\n",
       "        text-align: right;\n",
       "    }\n",
       "</style>\n",
       "<table border=\"1\" class=\"dataframe\">\n",
       "  <thead>\n",
       "    <tr style=\"text-align: right;\">\n",
       "      <th></th>\n",
       "      <th>visits</th>\n",
       "    </tr>\n",
       "    <tr>\n",
       "      <th>Attraction Type</th>\n",
       "      <th></th>\n",
       "    </tr>\n",
       "  </thead>\n",
       "  <tbody>\n",
       "    <tr>\n",
       "      <th>Thrill</th>\n",
       "      <td>7210</td>\n",
       "    </tr>\n",
       "    <tr>\n",
       "      <th>Everybody</th>\n",
       "      <td>2702</td>\n",
       "    </tr>\n",
       "    <tr>\n",
       "      <th>Kiddie</th>\n",
       "      <td>1649</td>\n",
       "    </tr>\n",
       "    <tr>\n",
       "      <th>Pavilion</th>\n",
       "      <td>722</td>\n",
       "    </tr>\n",
       "    <tr>\n",
       "      <th>Entrance</th>\n",
       "      <td>642</td>\n",
       "    </tr>\n",
       "    <tr>\n",
       "      <th>Show Hall</th>\n",
       "      <td>368</td>\n",
       "    </tr>\n",
       "    <tr>\n",
       "      <th>Stage</th>\n",
       "      <td>222</td>\n",
       "    </tr>\n",
       "    <tr>\n",
       "      <th>First Aid</th>\n",
       "      <td>47</td>\n",
       "    </tr>\n",
       "    <tr>\n",
       "      <th>Arcade</th>\n",
       "      <td>0</td>\n",
       "    </tr>\n",
       "    <tr>\n",
       "      <th>Beer Garden</th>\n",
       "      <td>0</td>\n",
       "    </tr>\n",
       "    <tr>\n",
       "      <th>Food</th>\n",
       "      <td>0</td>\n",
       "    </tr>\n",
       "    <tr>\n",
       "      <th>Info</th>\n",
       "      <td>0</td>\n",
       "    </tr>\n",
       "    <tr>\n",
       "      <th>Restroom</th>\n",
       "      <td>0</td>\n",
       "    </tr>\n",
       "    <tr>\n",
       "      <th>Shopping</th>\n",
       "      <td>0</td>\n",
       "    </tr>\n",
       "  </tbody>\n",
       "</table>\n",
       "</div>"
      ],
      "text/plain": [
       "                 visits\n",
       "Attraction Type        \n",
       "Thrill             7210\n",
       "Everybody          2702\n",
       "Kiddie             1649\n",
       "Pavilion            722\n",
       "Entrance            642\n",
       "Show Hall           368\n",
       "Stage               222\n",
       "First Aid            47\n",
       "Arcade                0\n",
       "Beer Garden           0\n",
       "Food                  0\n",
       "Info                  0\n",
       "Restroom              0\n",
       "Shopping              0"
      ]
     },
     "execution_count": 142,
     "metadata": {},
     "output_type": "execute_result"
    }
   ],
   "source": [
    "rides_by_popularity.groupby('Attraction Type').sum().sort_values('visits', ascending=[False])"
   ]
  },
  {
   "cell_type": "markdown",
   "metadata": {},
   "source": [
    "### (h) How long do visitors remain in the park?"
   ]
  },
  {
   "cell_type": "code",
   "execution_count": 194,
   "metadata": {},
   "outputs": [
    {
     "name": "stderr",
     "output_type": "stream",
     "text": [
      "/home/hendrik/.local/share/virtualenvs/Datasets-WZPBNwFX/lib/python3.6/site-packages/pandas/core/groupby/groupby.py:4658: FutureWarning: using a dict with renaming is deprecated and will be removed in a future version\n",
      "  return super(DataFrameGroupBy, self).aggregate(arg, *args, **kwargs)\n"
     ]
    },
    {
     "data": {
      "image/png": "[encoded data removed]",
      "text/plain": [
       "<Figure size 432x288 with 1 Axes>"
      ]
     },
     "metadata": {},
     "output_type": "display_data"
    }
   ],
   "source": [
    "visitor_durations = visitors_data.groupby('id').agg({'Timestamp': {'arrival': 'min', 'leave': 'max'}})\n",
    "visitor_durations['duration'] = visitor_durations['Timestamp']['leave'] - visitor_durations['Timestamp']['arrival']\n",
    "visitor_durations['duration in hours'] = visitor_durations['duration'].apply(lambda delta: delta.total_seconds() / 60 / 60)\n",
    "plt.hist(visitor_durations['duration in hours'], density=True, bins=30)\n",
    "plt.title(\"Distribution of time spent by visitors in the park\")\n",
    "plt.xlabel(\"Time in hours\")\n",
    "plt.ylabel(\"% of Visitors\")\n",
    "plt.show()"
   ]
  },
  {
   "cell_type": "code",
   "execution_count": 196,
   "metadata": {},
   "outputs": [
    {
     "name": "stdout",
     "output_type": "stream",
     "text": [
      "Minimum: 2.55 h\n",
      "Median:  12.9 h\n",
      "Mean:    12.402211601536877 h\n",
      "Maximum: 18.966666666666665 h\n"
     ]
    }
   ],
   "source": [
    "print(f\"Minimum: {visitor_durations['duration in hours'].min()} h\")\n",
    "print(f\"Mean:    {visitor_durations['duration in hours'].mean()} h\")\n",
    "print(f\"Median:  {visitor_durations['duration in hours'].median()} h\")\n",
    "print(f\"Maximum: {visitor_durations['duration in hours'].max()} h\")"
   ]
  }
 ],
 "metadata": {
  "kernelspec": {
   "display_name": "Python 3",
   "language": "python",
   "name": "python3"
  },
  "language_info": {
   "codemirror_mode": {
    "name": "ipython",
    "version": 3
   },
   "file_extension": ".py",
   "mimetype": "text/x-python",
   "name": "python",
   "nbconvert_exporter": "python",
   "pygments_lexer": "ipython3",
   "version": "3.6.5"
  }
 },
 "nbformat": 4,
 "nbformat_minor": 2
}
